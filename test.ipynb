{
 "cells": [
  {
   "cell_type": "code",
   "execution_count": 1,
   "id": "96870433",
   "metadata": {},
   "outputs": [
    {
     "name": "stdout",
     "output_type": "stream",
     "text": [
      "['Hello', ' ', 'word', ' ', \"'\", ' ', 'မြန်', 'မာ', ' ', \"'\", ' ', '123', ' ', 'world', '!', ' ', 'ကောင်း', 'တယ်', '။']\n"
     ]
    }
   ],
   "source": [
    "import re\n",
    "\n",
    "def segment_mixed(text):\n",
    "    specials = r'[\"\\'“”‘’{}()\\[\\]\\.,;:?!\\s]'  # punctuation + whitespace\n",
    "\n",
    "    # Insert separators around Burmese, English, numbers, and special characters\n",
    "    text = re.sub(\n",
    "        rf'(?:(?<!္)([က-ဪဿ၊-၏]|[၀-၉]+|[A-Za-z]+|\\d+|{specials}|[^က-၏A-Za-z0-9]+)(?![ှျ]?[့္်]))',\n",
    "        r'|\\1',\n",
    "        text\n",
    "    )\n",
    "\n",
    "    return [seg for seg in re.split(r'\\|', text) if seg]\n",
    "\n",
    "# Example\n",
    "sample = \"Hello word ' မြန်မာ ' 123 world! ကောင်းတယ်။\"\n",
    "print(segment_mixed(sample))"
   ]
  }
 ],
 "metadata": {
  "kernelspec": {
   "display_name": "ai",
   "language": "python",
   "name": "python3"
  },
  "language_info": {
   "codemirror_mode": {
    "name": "ipython",
    "version": 3
   },
   "file_extension": ".py",
   "mimetype": "text/x-python",
   "name": "python",
   "nbconvert_exporter": "python",
   "pygments_lexer": "ipython3",
   "version": "3.12.4"
  }
 },
 "nbformat": 4,
 "nbformat_minor": 5
}
